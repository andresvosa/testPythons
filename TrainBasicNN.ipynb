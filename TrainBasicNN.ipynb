{
 "cells": [
  {
   "cell_type": "markdown",
   "metadata": {},
   "source": [
    "## Train Basic Neural Network\n",
    "\n",
    "a fun exercise to see how well you understand my AI Simplified Playlist:\n",
    "<br>\n",
    "https://youtube.com/playlist?list=PLqXS1b2lRpYTpUIEu3oxfhhTuBXmMPppA\n",
    "<br>\n",
    "<br>\n",
    "The entire code below is explained step by step, command by command, in this tutorial of mine: \n",
    "<br>\n",
    "https://youtu.be/xpPX3fBM9dU\n",
    "<br>\n",
    "<br>\n",
    "by: Mariya Sha"
   ]
  },
  {
   "cell_type": "markdown",
   "metadata": {},
   "source": [
    "### STEP 1: Generate Data"
   ]
  },
  {
   "cell_type": "code",
   "execution_count": 10,
   "metadata": {},
   "outputs": [
    {
     "name": "stdout",
     "output_type": "stream",
     "text": [
      "         x0        x1        x2  targets\n",
      "0  0.512593  0.838298  0.640243        1\n",
      "1  0.805120  0.025566  0.594743        1\n",
      "2  0.190806  0.025967  0.676498        1\n",
      "3  0.360109  0.018419  0.864023        0\n"
     ]
    }
   ],
   "source": [
    "import numpy as np\n",
    "import pandas as pd\n",
    "\n",
    "rg = np.random.default_rng()\n",
    "\n",
    "def generate_data(n_features, n_values):\n",
    "    features = rg.random((n_features, n_values))\n",
    "    weights = rg.random((1, n_values))[0]\n",
    "    targets = np.random.choice([0,1], n_features)\n",
    "    data = pd.DataFrame(features, columns=[\"x0\", \"x1\", \"x2\"])\n",
    "    data[\"targets\"] = targets\n",
    "    return data, weights\n",
    "    \n",
    "data, weights = generate_data(4,3)\n",
    "print(data)"
   ]
  },
  {
   "cell_type": "markdown",
   "metadata": {},
   "source": [
    "### STEP 2: Train Model"
   ]
  },
  {
   "cell_type": "code",
   "execution_count": 24,
   "metadata": {},
   "outputs": [
    {
     "name": "stdout",
     "output_type": "stream",
     "text": [
      "**************************\n",
      "epoch 0\n",
      "0.24596691500539186\n",
      "**************************\n",
      "epoch 1\n",
      "0.2443171531087477\n",
      "**************************\n",
      "epoch 2\n",
      "0.24289522824952253\n",
      "**************************\n",
      "epoch 3\n",
      "0.24165890496422804\n",
      "**************************\n",
      "epoch 4\n",
      "0.2405725595304472\n",
      "**************************\n",
      "epoch 5\n",
      "0.23960656764117708\n",
      "**************************\n",
      "epoch 6\n",
      "0.23873660149262244\n",
      "**************************\n",
      "epoch 7\n",
      "0.2379429049172851\n",
      "**************************\n",
      "epoch 8\n",
      "0.23720959397885258\n",
      "**************************\n",
      "epoch 9\n",
      "0.23652401256308533\n",
      "**************************\n",
      "epoch 10\n",
      "0.23587615861020694\n",
      "**************************\n",
      "epoch 11\n",
      "0.23525818660458353\n",
      "**************************\n",
      "epoch 12\n",
      "0.23466398521804402\n",
      "**************************\n",
      "epoch 13\n",
      "0.23408882489715055\n",
      "**************************\n",
      "epoch 14\n",
      "0.2335290680072384\n",
      "**************************\n",
      "epoch 15\n",
      "0.23298193330514133\n",
      "**************************\n",
      "epoch 16\n",
      "0.2324453065375283\n",
      "**************************\n",
      "epoch 17\n",
      "0.23191758950167354\n",
      "**************************\n",
      "epoch 18\n",
      "0.23139758071261793\n",
      "**************************\n",
      "epoch 19\n",
      "0.2308843817297398\n",
      "**************************\n",
      "epoch 20\n",
      "0.23037732410302442\n",
      "**************************\n",
      "epoch 21\n",
      "0.22987591274502225\n",
      "**************************\n",
      "epoch 22\n",
      "0.22937978228861505\n",
      "**************************\n",
      "epoch 23\n",
      "0.2288886636425573\n",
      "**************************\n",
      "epoch 24\n",
      "0.22840235850730414\n",
      "**************************\n",
      "epoch 25\n",
      "0.22792072007041672\n",
      "**************************\n",
      "epoch 26\n",
      "0.22744363847449492\n",
      "**************************\n",
      "epoch 27\n",
      "0.22697102995277707\n",
      "**************************\n",
      "epoch 28\n",
      "0.2265028287696355\n",
      "**************************\n",
      "epoch 29\n",
      "0.22603898129561023\n",
      "**************************\n",
      "epoch 30\n",
      "0.22557944169852032\n",
      "**************************\n",
      "epoch 31\n",
      "0.22512416885141728\n",
      "**************************\n",
      "epoch 32\n",
      "0.22467312415123228\n",
      "**************************\n",
      "epoch 33\n",
      "0.22422627001433504\n",
      "**************************\n",
      "epoch 34\n",
      "0.22378356887123127\n",
      "**************************\n",
      "epoch 35\n",
      "0.22334498252581814\n",
      "**************************\n",
      "epoch 36\n",
      "0.2229104717777971\n",
      "**************************\n",
      "epoch 37\n",
      "0.22247999623224962\n",
      "**************************\n",
      "epoch 38\n",
      "0.22205351423975417\n",
      "**************************\n",
      "epoch 39\n",
      "0.2216309829251563\n",
      "**************************\n",
      "epoch 40\n",
      "0.22121235827424998\n",
      "**************************\n",
      "epoch 41\n",
      "0.220797595256041\n",
      "**************************\n",
      "epoch 42\n",
      "0.22038664796457108\n",
      "**************************\n",
      "epoch 43\n",
      "0.21997946976899468\n",
      "**************************\n",
      "epoch 44\n",
      "0.21957601346410016\n",
      "**************************\n",
      "epoch 45\n",
      "0.21917623141604006\n",
      "**************************\n",
      "epoch 46\n",
      "0.21878007569992317\n",
      "**************************\n",
      "epoch 47\n",
      "0.21838749822727888\n",
      "**************************\n",
      "epoch 48\n",
      "0.21799845086237785\n",
      "**************************\n",
      "epoch 49\n",
      "0.21761288552707136\n"
     ]
    }
   ],
   "source": [
    "bias = 0.5\n",
    "l_rate = 0.1\n",
    "epochs = 50\n",
    "epoch_loss = []\n",
    "\n",
    "def get_weighted_sum(feature, weights, bias):\n",
    "    return np.dot(feature, weights) + bias\n",
    "\n",
    "def sigmoid(w_sum):\n",
    "    return 1/(1+np.exp(-w_sum))\n",
    "\n",
    "def cross_entropy(target, prediction):\n",
    "    return -(target*np.log10(prediction) + (1-target)*np.log10(1-prediction))\n",
    "\n",
    "def update_weights(weights, l_rate, target, prediction, feature):\n",
    "    new_weights = []\n",
    "    for x, w in zip(feature, weights):\n",
    "        new_w = w + l_rate*(target-prediction)*x\n",
    "        new_weights.append(new_w)\n",
    "    return new_weights\n",
    "\n",
    "def update_bias(bias, l_rate, target, prediction):\n",
    "    return bias + l_rate*(target-prediction)\n",
    "\n",
    "def train_model(data, weights, bias, l_rate, epochs):\n",
    "    for e in range(epochs):\n",
    "        individual_loss = []\n",
    "        for i in range(len(data)):\n",
    "            feature = data.loc[i][:-1]\n",
    "            target = data.loc[i][-1]\n",
    "            w_sum = get_weighted_sum(feature, weights, bias)\n",
    "            prediction = sigmoid(w_sum)\n",
    "            loss = cross_entropy(target, prediction)\n",
    "            individual_loss.append(loss)\n",
    "            # gradient descent\n",
    "            weights = update_weights(weights, l_rate, target, prediction, feature)\n",
    "            bias = update_bias(bias, l_rate, target, prediction)\n",
    "        average_loss = sum(individual_loss)/len(individual_loss)\n",
    "        epoch_loss.append(average_loss)\n",
    "        print(\"**************************\")\n",
    "        print(\"epoch\", e)\n",
    "        print(average_loss)\n",
    "        \n",
    "train_model(data, weights, bias, l_rate, epochs)"
   ]
  },
  {
   "cell_type": "markdown",
   "metadata": {},
   "source": [
    "### STEP 3: Plot/Visuallize data"
   ]
  },
  {
   "cell_type": "code",
   "execution_count": 25,
   "metadata": {},
   "outputs": [
    {
     "data": {
      "text/plain": [
       "<AxesSubplot:>"
      ]
     },
     "execution_count": 25,
     "metadata": {},
     "output_type": "execute_result"
    },
    {
     "data": {
      "image/png": "[encoded data removed]",
      "text/plain": [
       "<Figure size 432x288 with 1 Axes>"
      ]
     },
     "metadata": {
      "needs_background": "light"
     },
     "output_type": "display_data"
    }
   ],
   "source": [
    "df = pd.DataFrame(epoch_loss)\n",
    "df_plot = df.plot(kind=\"line\", grid=True)\n",
    "df_plot"
   ]
  },
  {
   "cell_type": "code",
   "execution_count": null,
   "metadata": {},
   "outputs": [],
   "source": []
  }
 ],
 "metadata": {
  "kernelspec": {
   "display_name": "Python 3 (ipykernel)",
   "language": "python",
   "name": "python3"
  },
  "language_info": {
   "codemirror_mode": {
    "name": "ipython",
    "version": 3
   },
   "file_extension": ".py",
   "mimetype": "text/x-python",
   "name": "python",
   "nbconvert_exporter": "python",
   "pygments_lexer": "ipython3",
   "version": "3.9.7"
  }
 },
 "nbformat": 4,
 "nbformat_minor": 4
}
